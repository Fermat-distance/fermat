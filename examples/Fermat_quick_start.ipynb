{
 "cells": [
  {
   "cell_type": "markdown",
   "metadata": {},
   "source": [
    "# Getting started with Fermat\n",
    " \n",
    "This notebook introduces the basic concepts in order to compute Fermat distance using the Fermat package.\n",
    "\n",
    "We use a toy data set (the swiss roll) in order to illustrate. \n",
    "\n",
    " **Contents**:\n",
    "        \n",
    "    - Data generation\n",
    "    - Computing Fermat distance\n",
    "    - Visualization using t-sne\n",
    "    "
   ]
  },
  {
   "cell_type": "code",
   "execution_count": 1,
   "metadata": {},
   "outputs": [],
   "source": [
    "import numpy as np\n",
    "from scipy.spatial import  distance_matrix\n",
    "from sklearn.manifold import TSNE\n",
    "\n",
    "import matplotlib.pyplot as plt\n",
    "\n",
    "from generate_data import generate_swiss_roll"
   ]
  },
  {
   "cell_type": "code",
   "execution_count": 5,
   "metadata": {},
   "outputs": [],
   "source": [
    "import os\n",
    "import sys\n",
    "sys.path.append(os.path.dirname(get_ipython().starting_dir))"
   ]
  },
  {
   "cell_type": "code",
   "execution_count": 6,
   "metadata": {},
   "outputs": [],
   "source": [
    "from fermat import Fermat"
   ]
  },
  {
   "cell_type": "code",
   "execution_count": 7,
   "metadata": {},
   "outputs": [
    {
     "name": "stdout",
     "output_type": "stream",
     "text": [
      "Help on class Fermat in module fermat.Fermat:\n",
      "\n",
      "class Fermat(sklearn.base.BaseEstimator)\n",
      " |  Base class for all estimators in scikit-learn\n",
      " |  \n",
      " |  Notes\n",
      " |  -----\n",
      " |  All estimators should specify all the parameters that can be set\n",
      " |  at the class level in their ``__init__`` as explicit keyword\n",
      " |  arguments (no ``*args`` or ``**kwargs``).\n",
      " |  \n",
      " |  Method resolution order:\n",
      " |      Fermat\n",
      " |      sklearn.base.BaseEstimator\n",
      " |      builtins.object\n",
      " |  \n",
      " |  Methods defined here:\n",
      " |  \n",
      " |  __init__(self, alpha, path_method='L', k=None, landmarks=None, estimator='up', seed=None)\n",
      " |      Parameters\n",
      " |      -----------\n",
      " |      alpha: float\n",
      " |          Parameter of the Fermat distance.\n",
      " |      \n",
      " |      path_method: string ['FW','D','L']\n",
      " |      \n",
      " |          Options are:\n",
      " |      \n",
      " |                  'FW'    -- Computes the exact Fermat distance using the Floyd-Warshall algorithm. The complexity is\n",
      " |                           O[N^3] where N is the number of data points.\n",
      " |      \n",
      " |                  'D'     --  Computes an approximation of the Fermat distance using k nearest neighbours and the\n",
      " |                           Dijkstra algorithm. The complexity is O[N*(k*N*log N)]\n",
      " |      \n",
      " |                  'L'     -- Computes an approximation of the Fermat distance using landmarks and k-nn. The complexity\n",
      " |                           is O[l*(k*N*log N)] where l is the number of landmarks considered.\n",
      " |      \n",
      " |      k: integer, optional\n",
      " |          Number of nearest neighbors to be considered.\n",
      " |          Not used when path_method == 'FW'\n",
      " |      \n",
      " |      landmarks: integer, optional\n",
      " |          Number of landmarks considered in the Fermat distance computation.\n",
      " |          Only used when path_method = 'L'\n",
      " |      \n",
      " |      estimator: string ['up', 'down', 'mean', 'no_lca'] (default: 'up')\n",
      " |          When computing an approximation of the Fermat distance, there are lower and upper bounds of the true value.\n",
      " |          If estimator == 'no_lca', the distance for a pair of points is calculated as the minimum sum of the distance\n",
      " |              from both points to one of the landmarks.\n",
      " |          If estimator == 'up', the distance for a pair of points is calculated as the minimum sum of the distance\n",
      " |              from both points to the lowest common ancestor in the distance tree of one of the landmarks.\n",
      " |          If estimator == 'down', the distance for a pair of points is calculated as the maximum difference of the\n",
      " |              distance from both points to one of the landmarks.\n",
      " |          If estimator == 'mean', the  mean between 'up' and 'down' estimators.\n",
      " |          Only used when path_method = 'L'\n",
      " |      \n",
      " |      seed: int, optional\n",
      " |          Only used when path_method = 'L'\n",
      " |      \n",
      " |      \n",
      " |      Returns\n",
      " |      -----------\n",
      " |      Fermat class object\n",
      " |      \n",
      " |      \n",
      " |      Examples\n",
      " |      \n",
      " |      \n",
      " |      # init an exact Fermat distance model\n",
      " |      \n",
      " |      f_exact = Fermat(alpha = 3, path_method='FW', seed = 1)\n",
      " |      \n",
      " |      \n",
      " |      # init an approx Fermat distance model\n",
      " |      \n",
      " |      f_aprox = Fermat(alpha, path_method='L', k=10, landmarks=50)\n",
      " |  \n",
      " |  fit(self, distances:numpy.ndarray)\n",
      " |      Parameters\n",
      " |      -----------\n",
      " |      distances: np.ndarray\n",
      " |          Matrix with pairwise distances\n",
      " |  \n",
      " |  get_distance(self, a, b)\n",
      " |      Parameters\n",
      " |      -----------\n",
      " |      a: int\n",
      " |          Index of a data point\n",
      " |      \n",
      " |      b: int\n",
      " |          Index of a data point\n",
      " |      \n",
      " |      Returns\n",
      " |      -----------\n",
      " |      Float: the Fermat distance between points a and b\n",
      " |  \n",
      " |  get_distances(self)\n",
      " |      Parameters\n",
      " |      -----------\n",
      " |      -\n",
      " |      \n",
      " |      Returns\n",
      " |      -----------\n",
      " |      np.matrix with the pairwise Fermat distances\n",
      " |  \n",
      " |  ----------------------------------------------------------------------\n",
      " |  Methods inherited from sklearn.base.BaseEstimator:\n",
      " |  \n",
      " |  __getstate__(self)\n",
      " |  \n",
      " |  __repr__(self, N_CHAR_MAX=700)\n",
      " |      Return repr(self).\n",
      " |  \n",
      " |  __setstate__(self, state)\n",
      " |  \n",
      " |  get_params(self, deep=True)\n",
      " |      Get parameters for this estimator.\n",
      " |      \n",
      " |      Parameters\n",
      " |      ----------\n",
      " |      deep : boolean, optional\n",
      " |          If True, will return the parameters for this estimator and\n",
      " |          contained subobjects that are estimators.\n",
      " |      \n",
      " |      Returns\n",
      " |      -------\n",
      " |      params : mapping of string to any\n",
      " |          Parameter names mapped to their values.\n",
      " |  \n",
      " |  set_params(self, **params)\n",
      " |      Set the parameters of this estimator.\n",
      " |      \n",
      " |      The method works on simple estimators as well as on nested objects\n",
      " |      (such as pipelines). The latter have parameters of the form\n",
      " |      ``<component>__<parameter>`` so that it's possible to update each\n",
      " |      component of a nested object.\n",
      " |      \n",
      " |      Returns\n",
      " |      -------\n",
      " |      self\n",
      " |  \n",
      " |  ----------------------------------------------------------------------\n",
      " |  Data descriptors inherited from sklearn.base.BaseEstimator:\n",
      " |  \n",
      " |  __dict__\n",
      " |      dictionary for instance variables (if defined)\n",
      " |  \n",
      " |  __weakref__\n",
      " |      list of weak references to the object (if defined)\n",
      "\n"
     ]
    }
   ],
   "source": [
    "help(Fermat)"
   ]
  },
  {
   "cell_type": "markdown",
   "metadata": {},
   "source": [
    "## Data generation\n",
    "\n",
    "Generate the Swiss Roll data set."
   ]
  },
  {
   "cell_type": "code",
   "execution_count": 9,
   "metadata": {},
   "outputs": [
    {
     "name": "stdout",
     "output_type": "stream",
     "text": [
      "Data dimension:(1000, 3)\n"
     ]
    }
   ],
   "source": [
    "data, labels = generate_swiss_roll(oscilations = 15, a = 3, n = 250)\n",
    "print('Data dimension:{}'.format(data.shape))"
   ]
  },
  {
   "cell_type": "markdown",
   "metadata": {},
   "source": [
    "\n",
    "Visualize the data"
   ]
  },
  {
   "cell_type": "code",
   "execution_count": 10,
   "metadata": {},
   "outputs": [
    {
     "data": {
      "image/png": "[encoded data removed]",
      "text/plain": [
       "<Figure size 432x288 with 1 Axes>"
      ]
     },
     "metadata": {
      "needs_background": "light"
     },
     "output_type": "display_data"
    }
   ],
   "source": [
    "from mpl_toolkits.mplot3d import Axes3D\n",
    "\n",
    "fig = plt.figure()\n",
    "\n",
    "ax = fig.add_subplot(111, projection='3d')\n",
    "ax.view_init(10, 80)\n",
    "ax.scatter(xs=data[:,0], ys=data[:,1], zs=data[:,2], c=labels, s=4)\n",
    "plt.title('Swiss Roll Normals dataset \\n N=%s'%(data.shape[0]))\n",
    "\n",
    "plt.show()"
   ]
  },
  {
   "cell_type": "markdown",
   "metadata": {},
   "source": [
    "Compute euclidean distances between points in the data set"
   ]
  },
  {
   "cell_type": "code",
   "execution_count": 11,
   "metadata": {},
   "outputs": [],
   "source": [
    "distances = distance_matrix(data,data)"
   ]
  },
  {
   "cell_type": "markdown",
   "metadata": {},
   "source": [
    "## Computing Fermat-Distances"
   ]
  },
  {
   "cell_type": "markdown",
   "metadata": {},
   "source": [
    "Parameters"
   ]
  },
  {
   "cell_type": "code",
   "execution_count": 12,
   "metadata": {},
   "outputs": [],
   "source": [
    "alpha = 3\n",
    "\n",
    "k = 100 \n",
    "landmarks = 30"
   ]
  },
  {
   "cell_type": "markdown",
   "metadata": {},
   "source": [
    "#### Exact method: computes all the pairwise Fermat distances in an exact way \n"
   ]
  },
  {
   "cell_type": "code",
   "execution_count": 13,
   "metadata": {},
   "outputs": [
    {
     "name": "stdout",
     "output_type": "stream",
     "text": [
      "CPU times: user 1.1 s, sys: 16 ms, total: 1.11 s\n",
      "Wall time: 1.11 s\n"
     ]
    },
    {
     "data": {
      "text/plain": [
       "Fermat(alpha=3, estimator='up', k=None, landmarks=None, path_method='FW',\n",
       "       seed=None)"
      ]
     },
     "execution_count": 13,
     "metadata": {},
     "output_type": "execute_result"
    }
   ],
   "source": [
    "%%time\n",
    "\n",
    "# Initialize the model\n",
    "f_exact = Fermat(alpha = alpha, path_method='FW') \n",
    "\n",
    "# Fit\n",
    "f_exact.fit(distances)"
   ]
  },
  {
   "cell_type": "code",
   "execution_count": 14,
   "metadata": {},
   "outputs": [],
   "source": [
    "fermat_dist_exact = f_exact.get_distances() "
   ]
  },
  {
   "cell_type": "markdown",
   "metadata": {},
   "source": [
    "#### Aprox method 1: using k-nearest neighbours"
   ]
  },
  {
   "cell_type": "code",
   "execution_count": 16,
   "metadata": {},
   "outputs": [
    {
     "name": "stdout",
     "output_type": "stream",
     "text": [
      "CPU times: user 1.3 s, sys: 4 ms, total: 1.3 s\n",
      "Wall time: 1.3 s\n"
     ]
    },
    {
     "data": {
      "text/plain": [
       "Fermat(alpha=3, estimator='up', k=100, landmarks=None, path_method='D',\n",
       "       seed=None)"
      ]
     },
     "execution_count": 16,
     "metadata": {},
     "output_type": "execute_result"
    }
   ],
   "source": [
    "%%time\n",
    "\n",
    "# Initialize Fermat model\n",
    "f_aprox_D = Fermat(alpha, path_method='D', k=k) \n",
    "\n",
    "# Fit\n",
    "f_aprox_D.fit(distances)"
   ]
  },
  {
   "cell_type": "code",
   "execution_count": 17,
   "metadata": {},
   "outputs": [],
   "source": [
    "fermat_dist_aprox_D = f_aprox_D.get_distances()"
   ]
  },
  {
   "cell_type": "markdown",
   "metadata": {},
   "source": [
    "#### Aprox method 2: using landmarks and k-nearest neighbours "
   ]
  },
  {
   "cell_type": "code",
   "execution_count": 19,
   "metadata": {},
   "outputs": [
    {
     "name": "stdout",
     "output_type": "stream",
     "text": [
      "CPU times: user 588 ms, sys: 0 ns, total: 588 ms\n",
      "Wall time: 583 ms\n"
     ]
    },
    {
     "data": {
      "text/plain": [
       "Fermat(alpha=3, estimator='up', k=100, landmarks=30, path_method='L', seed=None)"
      ]
     },
     "execution_count": 19,
     "metadata": {},
     "output_type": "execute_result"
    }
   ],
   "source": [
    "%%time\n",
    "\n",
    "# Initialize Fermat model\n",
    "f_aprox_L = Fermat(alpha, path_method='L', k=k, landmarks=landmarks) \n",
    "\n",
    "# Fit\n",
    "f_aprox_L.fit(distances)"
   ]
  },
  {
   "cell_type": "code",
   "execution_count": 20,
   "metadata": {},
   "outputs": [
    {
     "name": "stdout",
     "output_type": "stream",
     "text": [
      "CPU times: user 22.5 s, sys: 0 ns, total: 22.5 s\n",
      "Wall time: 22.5 s\n"
     ]
    }
   ],
   "source": [
    "%%time\n",
    "fermat_dist_aprox_L = f_aprox_L.get_distances() "
   ]
  },
  {
   "cell_type": "markdown",
   "metadata": {},
   "source": [
    "## Visualization\n",
    "\n",
    "Visualization for the Fermat distances using t-SNE"
   ]
  },
  {
   "cell_type": "code",
   "execution_count": 21,
   "metadata": {
    "scrolled": true
   },
   "outputs": [],
   "source": [
    "tsne_model = TSNE(n_components=2, verbose=0, perplexity=50, n_iter=500)\n",
    "tsnes = tsne_model.fit_transform(fermat_dist_exact)"
   ]
  },
  {
   "cell_type": "code",
   "execution_count": 22,
   "metadata": {},
   "outputs": [
    {
     "data": {
      "text/plain": [
       "<matplotlib.collections.PathCollection at 0x7f0f7f3f7048>"
      ]
     },
     "execution_count": 22,
     "metadata": {},
     "output_type": "execute_result"
    },
    {
     "data": {
      "image/png": "[encoded data removed]",
      "text/plain": [
       "<Figure size 432x288 with 1 Axes>"
      ]
     },
     "metadata": {
      "needs_background": "light"
     },
     "output_type": "display_data"
    }
   ],
   "source": [
    "plt.scatter(tsnes[:,0],tsnes[:,1], c = labels, s = 5)"
   ]
  },
  {
   "cell_type": "code",
   "execution_count": null,
   "metadata": {},
   "outputs": [],
   "source": []
  }
 ],
 "metadata": {
  "kernelspec": {
   "display_name": "venv-test",
   "language": "python",
   "name": "venv-test"
  },
  "language_info": {
   "codemirror_mode": {
    "name": "ipython",
    "version": 3
   },
   "file_extension": ".py",
   "mimetype": "text/x-python",
   "name": "python",
   "nbconvert_exporter": "python",
   "pygments_lexer": "ipython3",
   "version": "3.5.2"
  }
 },
 "nbformat": 4,
 "nbformat_minor": 2
}
